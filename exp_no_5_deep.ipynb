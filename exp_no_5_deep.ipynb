{
  "nbformat": 4,
  "nbformat_minor": 0,
  "metadata": {
    "colab": {
      "provenance": []
    },
    "kernelspec": {
      "name": "python3",
      "display_name": "Python 3"
    },
    "language_info": {
      "name": "python"
    }
  },
  "cells": [
    {
      "cell_type": "code",
      "execution_count": null,
      "metadata": {
        "id": "4JPmLyNwF1Hh"
      },
      "outputs": [],
      "source": [
        "import numpy as np\n",
        "import matplotlib.pyplot as plt\n",
        "import pandas as pd\n",
        "from sklearn.preprocessing import MinMaxScaler\n",
        "from keras import layers\n",
        "from keras.models import Sequential"
      ]
    },
    {
      "cell_type": "code",
      "source": [
        "dataset_train = pd.read_csv('/content/trainset.csv')"
      ],
      "metadata": {
        "id": "n_1G0jqkGX1p"
      },
      "execution_count": null,
      "outputs": []
    },
    {
      "cell_type": "code",
      "source": [
        "\n",
        "dataset_train.columns"
      ],
      "metadata": {
        "colab": {
          "base_uri": "https://localhost:8080/"
        },
        "id": "kBV_PDQpG65Q",
        "outputId": "0bb3c22a-108e-44c5-a2ee-369dc26a657e"
      },
      "execution_count": null,
      "outputs": [
        {
          "output_type": "execute_result",
          "data": {
            "text/plain": [
              "Index(['Date', 'Open', 'High', 'Low', 'Close', 'Adj Close', 'Volume'], dtype='object')"
            ]
          },
          "metadata": {},
          "execution_count": 3
        }
      ]
    },
    {
      "cell_type": "code",
      "source": [
        "\n",
        "dataset_train.head()"
      ],
      "metadata": {
        "colab": {
          "base_uri": "https://localhost:8080/",
          "height": 206
        },
        "id": "pjF-972KHFGj",
        "outputId": "21fb542c-c2e3-42fd-a2ee-7cee6918b171"
      },
      "execution_count": null,
      "outputs": [
        {
          "output_type": "execute_result",
          "data": {
            "text/plain": [
              "         Date        Open        High         Low       Close   Adj Close  \\\n",
              "0  2013-01-02  357.385559  361.151062  355.959839  359.288177  359.288177   \n",
              "1  2013-01-03  360.122742  363.600128  358.031342  359.496826  359.496826   \n",
              "2  2013-01-04  362.313507  368.339294  361.488861  366.600616  366.600616   \n",
              "3  2013-01-07  365.348755  367.301056  362.929504  365.001007  365.001007   \n",
              "4  2013-01-08  365.393463  365.771027  359.874359  364.280701  364.280701   \n",
              "\n",
              "    Volume  \n",
              "0  5115500  \n",
              "1  4666500  \n",
              "2  5562800  \n",
              "3  3332900  \n",
              "4  3373900  "
            ],
            "text/html": [
              "\n",
              "  <div id=\"df-90d31d85-dff6-4b83-8140-7251b3bf0aa3\" class=\"colab-df-container\">\n",
              "    <div>\n",
              "<style scoped>\n",
              "    .dataframe tbody tr th:only-of-type {\n",
              "        vertical-align: middle;\n",
              "    }\n",
              "\n",
              "    .dataframe tbody tr th {\n",
              "        vertical-align: top;\n",
              "    }\n",
              "\n",
              "    .dataframe thead th {\n",
              "        text-align: right;\n",
              "    }\n",
              "</style>\n",
              "<table border=\"1\" class=\"dataframe\">\n",
              "  <thead>\n",
              "    <tr style=\"text-align: right;\">\n",
              "      <th></th>\n",
              "      <th>Date</th>\n",
              "      <th>Open</th>\n",
              "      <th>High</th>\n",
              "      <th>Low</th>\n",
              "      <th>Close</th>\n",
              "      <th>Adj Close</th>\n",
              "      <th>Volume</th>\n",
              "    </tr>\n",
              "  </thead>\n",
              "  <tbody>\n",
              "    <tr>\n",
              "      <th>0</th>\n",
              "      <td>2013-01-02</td>\n",
              "      <td>357.385559</td>\n",
              "      <td>361.151062</td>\n",
              "      <td>355.959839</td>\n",
              "      <td>359.288177</td>\n",
              "      <td>359.288177</td>\n",
              "      <td>5115500</td>\n",
              "    </tr>\n",
              "    <tr>\n",
              "      <th>1</th>\n",
              "      <td>2013-01-03</td>\n",
              "      <td>360.122742</td>\n",
              "      <td>363.600128</td>\n",
              "      <td>358.031342</td>\n",
              "      <td>359.496826</td>\n",
              "      <td>359.496826</td>\n",
              "      <td>4666500</td>\n",
              "    </tr>\n",
              "    <tr>\n",
              "      <th>2</th>\n",
              "      <td>2013-01-04</td>\n",
              "      <td>362.313507</td>\n",
              "      <td>368.339294</td>\n",
              "      <td>361.488861</td>\n",
              "      <td>366.600616</td>\n",
              "      <td>366.600616</td>\n",
              "      <td>5562800</td>\n",
              "    </tr>\n",
              "    <tr>\n",
              "      <th>3</th>\n",
              "      <td>2013-01-07</td>\n",
              "      <td>365.348755</td>\n",
              "      <td>367.301056</td>\n",
              "      <td>362.929504</td>\n",
              "      <td>365.001007</td>\n",
              "      <td>365.001007</td>\n",
              "      <td>3332900</td>\n",
              "    </tr>\n",
              "    <tr>\n",
              "      <th>4</th>\n",
              "      <td>2013-01-08</td>\n",
              "      <td>365.393463</td>\n",
              "      <td>365.771027</td>\n",
              "      <td>359.874359</td>\n",
              "      <td>364.280701</td>\n",
              "      <td>364.280701</td>\n",
              "      <td>3373900</td>\n",
              "    </tr>\n",
              "  </tbody>\n",
              "</table>\n",
              "</div>\n",
              "    <div class=\"colab-df-buttons\">\n",
              "\n",
              "  <div class=\"colab-df-container\">\n",
              "    <button class=\"colab-df-convert\" onclick=\"convertToInteractive('df-90d31d85-dff6-4b83-8140-7251b3bf0aa3')\"\n",
              "            title=\"Convert this dataframe to an interactive table.\"\n",
              "            style=\"display:none;\">\n",
              "\n",
              "  <svg xmlns=\"http://www.w3.org/2000/svg\" height=\"24px\" viewBox=\"0 -960 960 960\">\n",
              "    <path d=\"M120-120v-720h720v720H120Zm60-500h600v-160H180v160Zm220 220h160v-160H400v160Zm0 220h160v-160H400v160ZM180-400h160v-160H180v160Zm440 0h160v-160H620v160ZM180-180h160v-160H180v160Zm440 0h160v-160H620v160Z\"/>\n",
              "  </svg>\n",
              "    </button>\n",
              "\n",
              "  <style>\n",
              "    .colab-df-container {\n",
              "      display:flex;\n",
              "      gap: 12px;\n",
              "    }\n",
              "\n",
              "    .colab-df-convert {\n",
              "      background-color: #E8F0FE;\n",
              "      border: none;\n",
              "      border-radius: 50%;\n",
              "      cursor: pointer;\n",
              "      display: none;\n",
              "      fill: #1967D2;\n",
              "      height: 32px;\n",
              "      padding: 0 0 0 0;\n",
              "      width: 32px;\n",
              "    }\n",
              "\n",
              "    .colab-df-convert:hover {\n",
              "      background-color: #E2EBFA;\n",
              "      box-shadow: 0px 1px 2px rgba(60, 64, 67, 0.3), 0px 1px 3px 1px rgba(60, 64, 67, 0.15);\n",
              "      fill: #174EA6;\n",
              "    }\n",
              "\n",
              "    .colab-df-buttons div {\n",
              "      margin-bottom: 4px;\n",
              "    }\n",
              "\n",
              "    [theme=dark] .colab-df-convert {\n",
              "      background-color: #3B4455;\n",
              "      fill: #D2E3FC;\n",
              "    }\n",
              "\n",
              "    [theme=dark] .colab-df-convert:hover {\n",
              "      background-color: #434B5C;\n",
              "      box-shadow: 0px 1px 3px 1px rgba(0, 0, 0, 0.15);\n",
              "      filter: drop-shadow(0px 1px 2px rgba(0, 0, 0, 0.3));\n",
              "      fill: #FFFFFF;\n",
              "    }\n",
              "  </style>\n",
              "\n",
              "    <script>\n",
              "      const buttonEl =\n",
              "        document.querySelector('#df-90d31d85-dff6-4b83-8140-7251b3bf0aa3 button.colab-df-convert');\n",
              "      buttonEl.style.display =\n",
              "        google.colab.kernel.accessAllowed ? 'block' : 'none';\n",
              "\n",
              "      async function convertToInteractive(key) {\n",
              "        const element = document.querySelector('#df-90d31d85-dff6-4b83-8140-7251b3bf0aa3');\n",
              "        const dataTable =\n",
              "          await google.colab.kernel.invokeFunction('convertToInteractive',\n",
              "                                                    [key], {});\n",
              "        if (!dataTable) return;\n",
              "\n",
              "        const docLinkHtml = 'Like what you see? Visit the ' +\n",
              "          '<a target=\"_blank\" href=https://colab.research.google.com/notebooks/data_table.ipynb>data table notebook</a>'\n",
              "          + ' to learn more about interactive tables.';\n",
              "        element.innerHTML = '';\n",
              "        dataTable['output_type'] = 'display_data';\n",
              "        await google.colab.output.renderOutput(dataTable, element);\n",
              "        const docLink = document.createElement('div');\n",
              "        docLink.innerHTML = docLinkHtml;\n",
              "        element.appendChild(docLink);\n",
              "      }\n",
              "    </script>\n",
              "  </div>\n",
              "\n",
              "\n",
              "<div id=\"df-81cf2c49-d61c-4463-8aca-373e67de2e00\">\n",
              "  <button class=\"colab-df-quickchart\" onclick=\"quickchart('df-81cf2c49-d61c-4463-8aca-373e67de2e00')\"\n",
              "            title=\"Suggest charts\"\n",
              "            style=\"display:none;\">\n",
              "\n",
              "<svg xmlns=\"http://www.w3.org/2000/svg\" height=\"24px\"viewBox=\"0 0 24 24\"\n",
              "     width=\"24px\">\n",
              "    <g>\n",
              "        <path d=\"M19 3H5c-1.1 0-2 .9-2 2v14c0 1.1.9 2 2 2h14c1.1 0 2-.9 2-2V5c0-1.1-.9-2-2-2zM9 17H7v-7h2v7zm4 0h-2V7h2v10zm4 0h-2v-4h2v4z\"/>\n",
              "    </g>\n",
              "</svg>\n",
              "  </button>\n",
              "\n",
              "<style>\n",
              "  .colab-df-quickchart {\n",
              "      --bg-color: #E8F0FE;\n",
              "      --fill-color: #1967D2;\n",
              "      --hover-bg-color: #E2EBFA;\n",
              "      --hover-fill-color: #174EA6;\n",
              "      --disabled-fill-color: #AAA;\n",
              "      --disabled-bg-color: #DDD;\n",
              "  }\n",
              "\n",
              "  [theme=dark] .colab-df-quickchart {\n",
              "      --bg-color: #3B4455;\n",
              "      --fill-color: #D2E3FC;\n",
              "      --hover-bg-color: #434B5C;\n",
              "      --hover-fill-color: #FFFFFF;\n",
              "      --disabled-bg-color: #3B4455;\n",
              "      --disabled-fill-color: #666;\n",
              "  }\n",
              "\n",
              "  .colab-df-quickchart {\n",
              "    background-color: var(--bg-color);\n",
              "    border: none;\n",
              "    border-radius: 50%;\n",
              "    cursor: pointer;\n",
              "    display: none;\n",
              "    fill: var(--fill-color);\n",
              "    height: 32px;\n",
              "    padding: 0;\n",
              "    width: 32px;\n",
              "  }\n",
              "\n",
              "  .colab-df-quickchart:hover {\n",
              "    background-color: var(--hover-bg-color);\n",
              "    box-shadow: 0 1px 2px rgba(60, 64, 67, 0.3), 0 1px 3px 1px rgba(60, 64, 67, 0.15);\n",
              "    fill: var(--button-hover-fill-color);\n",
              "  }\n",
              "\n",
              "  .colab-df-quickchart-complete:disabled,\n",
              "  .colab-df-quickchart-complete:disabled:hover {\n",
              "    background-color: var(--disabled-bg-color);\n",
              "    fill: var(--disabled-fill-color);\n",
              "    box-shadow: none;\n",
              "  }\n",
              "\n",
              "  .colab-df-spinner {\n",
              "    border: 2px solid var(--fill-color);\n",
              "    border-color: transparent;\n",
              "    border-bottom-color: var(--fill-color);\n",
              "    animation:\n",
              "      spin 1s steps(1) infinite;\n",
              "  }\n",
              "\n",
              "  @keyframes spin {\n",
              "    0% {\n",
              "      border-color: transparent;\n",
              "      border-bottom-color: var(--fill-color);\n",
              "      border-left-color: var(--fill-color);\n",
              "    }\n",
              "    20% {\n",
              "      border-color: transparent;\n",
              "      border-left-color: var(--fill-color);\n",
              "      border-top-color: var(--fill-color);\n",
              "    }\n",
              "    30% {\n",
              "      border-color: transparent;\n",
              "      border-left-color: var(--fill-color);\n",
              "      border-top-color: var(--fill-color);\n",
              "      border-right-color: var(--fill-color);\n",
              "    }\n",
              "    40% {\n",
              "      border-color: transparent;\n",
              "      border-right-color: var(--fill-color);\n",
              "      border-top-color: var(--fill-color);\n",
              "    }\n",
              "    60% {\n",
              "      border-color: transparent;\n",
              "      border-right-color: var(--fill-color);\n",
              "    }\n",
              "    80% {\n",
              "      border-color: transparent;\n",
              "      border-right-color: var(--fill-color);\n",
              "      border-bottom-color: var(--fill-color);\n",
              "    }\n",
              "    90% {\n",
              "      border-color: transparent;\n",
              "      border-bottom-color: var(--fill-color);\n",
              "    }\n",
              "  }\n",
              "</style>\n",
              "\n",
              "  <script>\n",
              "    async function quickchart(key) {\n",
              "      const quickchartButtonEl =\n",
              "        document.querySelector('#' + key + ' button');\n",
              "      quickchartButtonEl.disabled = true;  // To prevent multiple clicks.\n",
              "      quickchartButtonEl.classList.add('colab-df-spinner');\n",
              "      try {\n",
              "        const charts = await google.colab.kernel.invokeFunction(\n",
              "            'suggestCharts', [key], {});\n",
              "      } catch (error) {\n",
              "        console.error('Error during call to suggestCharts:', error);\n",
              "      }\n",
              "      quickchartButtonEl.classList.remove('colab-df-spinner');\n",
              "      quickchartButtonEl.classList.add('colab-df-quickchart-complete');\n",
              "    }\n",
              "    (() => {\n",
              "      let quickchartButtonEl =\n",
              "        document.querySelector('#df-81cf2c49-d61c-4463-8aca-373e67de2e00 button');\n",
              "      quickchartButtonEl.style.display =\n",
              "        google.colab.kernel.accessAllowed ? 'block' : 'none';\n",
              "    })();\n",
              "  </script>\n",
              "</div>\n",
              "\n",
              "    </div>\n",
              "  </div>\n"
            ],
            "application/vnd.google.colaboratory.intrinsic+json": {
              "type": "dataframe",
              "variable_name": "dataset_train",
              "summary": "{\n  \"name\": \"dataset_train\",\n  \"rows\": 1259,\n  \"fields\": [\n    {\n      \"column\": \"Date\",\n      \"properties\": {\n        \"dtype\": \"object\",\n        \"num_unique_values\": 1259,\n        \"samples\": [\n          \"2013-04-23\",\n          \"2017-01-30\",\n          \"2013-03-06\"\n        ],\n        \"semantic_type\": \"\",\n        \"description\": \"\"\n      }\n    },\n    {\n      \"column\": \"Open\",\n      \"properties\": {\n        \"dtype\": \"number\",\n        \"std\": 175.63057351209417,\n        \"min\": 350.053253,\n        \"max\": 1075.199951,\n        \"num_unique_values\": 1228,\n        \"samples\": [\n          727.580017,\n          524.118103,\n          553.40564\n        ],\n        \"semantic_type\": \"\",\n        \"description\": \"\"\n      }\n    },\n    {\n      \"column\": \"High\",\n      \"properties\": {\n        \"dtype\": \"number\",\n        \"std\": 176.62741611717948,\n        \"min\": 350.391052,\n        \"max\": 1078.48999,\n        \"num_unique_values\": 1239,\n        \"samples\": [\n          580.309143,\n          577.489014,\n          517.056946\n        ],\n        \"semantic_type\": \"\",\n        \"description\": \"\"\n      }\n    },\n    {\n      \"column\": \"Low\",\n      \"properties\": {\n        \"dtype\": \"number\",\n        \"std\": 174.73281352959697,\n        \"min\": 345.512787,\n        \"max\": 1063.550049,\n        \"num_unique_values\": 1240,\n        \"samples\": [\n          576.052551,\n          568.403076,\n          518.469177\n        ],\n        \"semantic_type\": \"\",\n        \"description\": \"\"\n      }\n    },\n    {\n      \"column\": \"Close\",\n      \"properties\": {\n        \"dtype\": \"number\",\n        \"std\": 175.82099273815913,\n        \"min\": 349.164032,\n        \"max\": 1077.140015,\n        \"num_unique_values\": 1245,\n        \"samples\": [\n          749.460022,\n          557.812866,\n          927.330017\n        ],\n        \"semantic_type\": \"\",\n        \"description\": \"\"\n      }\n    },\n    {\n      \"column\": \"Adj Close\",\n      \"properties\": {\n        \"dtype\": \"number\",\n        \"std\": 175.82099273815913,\n        \"min\": 349.164032,\n        \"max\": 1077.140015,\n        \"num_unique_values\": 1245,\n        \"samples\": [\n          749.460022,\n          557.812866,\n          927.330017\n        ],\n        \"semantic_type\": \"\",\n        \"description\": \"\"\n      }\n    },\n    {\n      \"column\": \"Volume\",\n      \"properties\": {\n        \"dtype\": \"number\",\n        \"std\": 1672159,\n        \"min\": 7900,\n        \"max\": 23283100,\n        \"num_unique_values\": 1228,\n        \"samples\": [\n          1837200,\n          2000000,\n          1477800\n        ],\n        \"semantic_type\": \"\",\n        \"description\": \"\"\n      }\n    }\n  ]\n}"
            }
          },
          "metadata": {},
          "execution_count": 5
        }
      ]
    },
    {
      "cell_type": "code",
      "source": [
        "train_set = dataset_train.iloc[:,1:2].values\n",
        "type(train_set)\n",
        "train_set.shape"
      ],
      "metadata": {
        "colab": {
          "base_uri": "https://localhost:8080/"
        },
        "id": "uaXCFdFBHM8q",
        "outputId": "4c9203ac-3936-4b3a-bed1-9d8750039dd6"
      },
      "execution_count": null,
      "outputs": [
        {
          "output_type": "execute_result",
          "data": {
            "text/plain": [
              "(1259, 1)"
            ]
          },
          "metadata": {},
          "execution_count": 6
        }
      ]
    },
    {
      "cell_type": "code",
      "source": [
        "sc = MinMaxScaler(feature_range=(0,1))\n",
        "training_set_scaled = sc.fit_transform(train_set)\n",
        "training_set_scaled.shape"
      ],
      "metadata": {
        "colab": {
          "base_uri": "https://localhost:8080/"
        },
        "id": "JElvYiATHbqY",
        "outputId": "013b325c-1c6e-405a-e701-baaffcf298cf"
      },
      "execution_count": null,
      "outputs": [
        {
          "output_type": "execute_result",
          "data": {
            "text/plain": [
              "(1259, 1)"
            ]
          },
          "metadata": {},
          "execution_count": 7
        }
      ]
    },
    {
      "cell_type": "code",
      "source": [
        "X_train_array = []\n",
        "y_train_array = []\n",
        "for i in range(60, 1259):\n",
        "  X_train_array.append(training_set_scaled[i-60:i,0])\n",
        "  y_train_array.append(training_set_scaled[i,0])\n",
        "X_train, y_train = np.array(X_train_array), np.array(y_train_array)\n",
        "X_train1 = X_train.reshape((X_train.shape[0], X_train.shape[1],1))\n",
        "X_train.shape"
      ],
      "metadata": {
        "colab": {
          "base_uri": "https://localhost:8080/"
        },
        "id": "QzlKFyOdHig5",
        "outputId": "4719c4fa-bb62-4604-f2bb-c3146f49f7a4"
      },
      "execution_count": null,
      "outputs": [
        {
          "output_type": "execute_result",
          "data": {
            "text/plain": [
              "(1199, 60)"
            ]
          },
          "metadata": {},
          "execution_count": 11
        }
      ]
    },
    {
      "cell_type": "code",
      "source": [
        "length = 60\n",
        "n_features = 1\n"
      ],
      "metadata": {
        "id": "uh454DozH5AO"
      },
      "execution_count": null,
      "outputs": []
    },
    {
      "cell_type": "code",
      "source": [
        "model = Sequential()\n",
        "model.add(layers.SimpleRNN(50,input_shape=(length,n_features)))\n",
        "model.add(layers.Dense(1))\n",
        "model.compile(optimizer='adam',loss='mse')"
      ],
      "metadata": {
        "id": "ummFxjlMH9zo"
      },
      "execution_count": null,
      "outputs": []
    },
    {
      "cell_type": "code",
      "source": [
        "print(\"Name:Loshini.G  Register Number:212223220051\")\n",
        "model.summary()\n"
      ],
      "metadata": {
        "colab": {
          "base_uri": "https://localhost:8080/"
        },
        "id": "-7g0VkyqIz9y",
        "outputId": "fb82574f-2d95-405c-aa57-f159a4409631"
      },
      "execution_count": null,
      "outputs": [
        {
          "output_type": "stream",
          "name": "stdout",
          "text": [
            "Name:Loshini.G  Register Number:212223220051\n",
            "Model: \"sequential\"\n",
            "_________________________________________________________________\n",
            " Layer (type)                Output Shape              Param #   \n",
            "=================================================================\n",
            " simple_rnn (SimpleRNN)      (None, 50)                2600      \n",
            "                                                                 \n",
            " dense (Dense)               (None, 1)                 51        \n",
            "                                                                 \n",
            "=================================================================\n",
            "Total params: 2651 (10.36 KB)\n",
            "Trainable params: 2651 (10.36 KB)\n",
            "Non-trainable params: 0 (0.00 Byte)\n",
            "_________________________________________________________________\n"
          ]
        }
      ]
    },
    {
      "cell_type": "code",
      "source": [
        "model.fit(X_train1,y_train,epochs=100, batch_size=32)"
      ],
      "metadata": {
        "colab": {
          "base_uri": "https://localhost:8080/"
        },
        "id": "byywpOusJIXL",
        "outputId": "5e2eb6ab-8bcc-4d25-c05e-e5774cda7c27"
      },
      "execution_count": null,
      "outputs": [
        {
          "output_type": "stream",
          "name": "stdout",
          "text": [
            "Epoch 1/100\n",
            "38/38 [==============================] - 2s 12ms/step - loss: 0.0026\n",
            "Epoch 2/100\n",
            "38/38 [==============================] - 0s 12ms/step - loss: 3.9736e-04\n",
            "Epoch 3/100\n",
            "38/38 [==============================] - 0s 13ms/step - loss: 3.5530e-04\n",
            "Epoch 4/100\n",
            "38/38 [==============================] - 0s 12ms/step - loss: 3.5000e-04\n",
            "Epoch 5/100\n",
            "38/38 [==============================] - 0s 12ms/step - loss: 3.2974e-04\n",
            "Epoch 6/100\n",
            "38/38 [==============================] - 0s 12ms/step - loss: 3.1614e-04\n",
            "Epoch 7/100\n",
            "38/38 [==============================] - 0s 12ms/step - loss: 3.3143e-04\n",
            "Epoch 8/100\n",
            "38/38 [==============================] - 0s 12ms/step - loss: 2.7264e-04\n",
            "Epoch 9/100\n",
            "38/38 [==============================] - 0s 12ms/step - loss: 2.6466e-04\n",
            "Epoch 10/100\n",
            "38/38 [==============================] - 0s 12ms/step - loss: 2.7325e-04\n",
            "Epoch 11/100\n",
            "38/38 [==============================] - 0s 12ms/step - loss: 2.8007e-04\n",
            "Epoch 12/100\n",
            "38/38 [==============================] - 0s 12ms/step - loss: 2.7597e-04\n",
            "Epoch 13/100\n",
            "38/38 [==============================] - 1s 17ms/step - loss: 2.6869e-04\n",
            "Epoch 14/100\n",
            "38/38 [==============================] - 1s 19ms/step - loss: 2.7424e-04\n",
            "Epoch 15/100\n",
            "38/38 [==============================] - 1s 19ms/step - loss: 2.3125e-04\n",
            "Epoch 16/100\n",
            "38/38 [==============================] - 1s 21ms/step - loss: 2.2527e-04\n",
            "Epoch 17/100\n",
            "38/38 [==============================] - 0s 12ms/step - loss: 2.3241e-04\n",
            "Epoch 18/100\n",
            "38/38 [==============================] - 0s 12ms/step - loss: 2.1356e-04\n",
            "Epoch 19/100\n",
            "38/38 [==============================] - 0s 12ms/step - loss: 2.0485e-04\n",
            "Epoch 20/100\n",
            "38/38 [==============================] - 0s 12ms/step - loss: 2.4232e-04\n",
            "Epoch 21/100\n",
            "38/38 [==============================] - 0s 12ms/step - loss: 2.1436e-04\n",
            "Epoch 22/100\n",
            "38/38 [==============================] - 0s 12ms/step - loss: 2.3085e-04\n",
            "Epoch 23/100\n",
            "38/38 [==============================] - 0s 12ms/step - loss: 2.2633e-04\n",
            "Epoch 24/100\n",
            "38/38 [==============================] - 0s 13ms/step - loss: 2.0420e-04\n",
            "Epoch 25/100\n",
            "38/38 [==============================] - 0s 13ms/step - loss: 2.1032e-04\n",
            "Epoch 26/100\n",
            "38/38 [==============================] - 1s 14ms/step - loss: 2.0230e-04\n",
            "Epoch 27/100\n",
            "38/38 [==============================] - 1s 13ms/step - loss: 2.1923e-04\n",
            "Epoch 28/100\n",
            "38/38 [==============================] - 0s 13ms/step - loss: 2.0581e-04\n",
            "Epoch 29/100\n",
            "38/38 [==============================] - 0s 12ms/step - loss: 2.0976e-04\n",
            "Epoch 30/100\n",
            "38/38 [==============================] - 1s 14ms/step - loss: 2.0616e-04\n",
            "Epoch 31/100\n",
            "38/38 [==============================] - 0s 13ms/step - loss: 1.9949e-04\n",
            "Epoch 32/100\n",
            "38/38 [==============================] - 1s 13ms/step - loss: 2.0682e-04\n",
            "Epoch 33/100\n",
            "38/38 [==============================] - 0s 12ms/step - loss: 2.3041e-04\n",
            "Epoch 34/100\n",
            "38/38 [==============================] - 0s 13ms/step - loss: 2.0430e-04\n",
            "Epoch 35/100\n",
            "38/38 [==============================] - 0s 13ms/step - loss: 1.9478e-04\n",
            "Epoch 36/100\n",
            "38/38 [==============================] - 0s 13ms/step - loss: 2.0456e-04\n",
            "Epoch 37/100\n",
            "38/38 [==============================] - 1s 15ms/step - loss: 1.9018e-04\n",
            "Epoch 38/100\n",
            "38/38 [==============================] - 1s 20ms/step - loss: 1.8364e-04\n",
            "Epoch 39/100\n",
            "38/38 [==============================] - 1s 19ms/step - loss: 1.7520e-04\n",
            "Epoch 40/100\n",
            "38/38 [==============================] - 1s 20ms/step - loss: 1.8752e-04\n",
            "Epoch 41/100\n",
            "38/38 [==============================] - 1s 15ms/step - loss: 1.9363e-04\n",
            "Epoch 42/100\n",
            "38/38 [==============================] - 0s 12ms/step - loss: 1.8359e-04\n",
            "Epoch 43/100\n",
            "38/38 [==============================] - 0s 12ms/step - loss: 1.8225e-04\n",
            "Epoch 44/100\n",
            "38/38 [==============================] - 0s 12ms/step - loss: 1.8895e-04\n",
            "Epoch 45/100\n",
            "38/38 [==============================] - 0s 12ms/step - loss: 1.7793e-04\n",
            "Epoch 46/100\n",
            "38/38 [==============================] - 0s 12ms/step - loss: 1.7896e-04\n",
            "Epoch 47/100\n",
            "38/38 [==============================] - 0s 12ms/step - loss: 1.9613e-04\n",
            "Epoch 48/100\n",
            "38/38 [==============================] - 0s 12ms/step - loss: 1.7474e-04\n",
            "Epoch 49/100\n",
            "38/38 [==============================] - 0s 12ms/step - loss: 1.7910e-04\n",
            "Epoch 50/100\n",
            "38/38 [==============================] - 0s 12ms/step - loss: 1.7577e-04\n",
            "Epoch 51/100\n",
            "38/38 [==============================] - 0s 12ms/step - loss: 1.7263e-04\n",
            "Epoch 52/100\n",
            "38/38 [==============================] - 0s 12ms/step - loss: 2.1177e-04\n",
            "Epoch 53/100\n",
            "38/38 [==============================] - 0s 12ms/step - loss: 1.9093e-04\n",
            "Epoch 54/100\n",
            "38/38 [==============================] - 0s 12ms/step - loss: 1.8871e-04\n",
            "Epoch 55/100\n",
            "38/38 [==============================] - 0s 12ms/step - loss: 1.7429e-04\n",
            "Epoch 56/100\n",
            "38/38 [==============================] - 0s 12ms/step - loss: 1.7426e-04\n",
            "Epoch 57/100\n",
            "38/38 [==============================] - 0s 12ms/step - loss: 1.9690e-04\n",
            "Epoch 58/100\n",
            "38/38 [==============================] - 0s 12ms/step - loss: 1.7345e-04\n",
            "Epoch 59/100\n",
            "38/38 [==============================] - 0s 12ms/step - loss: 1.8509e-04\n",
            "Epoch 60/100\n",
            "38/38 [==============================] - 0s 12ms/step - loss: 1.7573e-04\n",
            "Epoch 61/100\n",
            "38/38 [==============================] - 0s 12ms/step - loss: 1.7025e-04\n",
            "Epoch 62/100\n",
            "38/38 [==============================] - 0s 12ms/step - loss: 1.6729e-04\n",
            "Epoch 63/100\n",
            "38/38 [==============================] - 1s 21ms/step - loss: 1.8489e-04\n",
            "Epoch 64/100\n",
            "38/38 [==============================] - 1s 19ms/step - loss: 1.9965e-04\n",
            "Epoch 65/100\n",
            "38/38 [==============================] - 1s 21ms/step - loss: 1.6285e-04\n",
            "Epoch 66/100\n",
            "38/38 [==============================] - 1s 18ms/step - loss: 1.7143e-04\n",
            "Epoch 67/100\n",
            "38/38 [==============================] - 0s 12ms/step - loss: 1.7211e-04\n",
            "Epoch 68/100\n",
            "38/38 [==============================] - 0s 12ms/step - loss: 1.9932e-04\n",
            "Epoch 69/100\n",
            "38/38 [==============================] - 0s 12ms/step - loss: 1.6481e-04\n",
            "Epoch 70/100\n",
            "38/38 [==============================] - 0s 12ms/step - loss: 1.7080e-04\n",
            "Epoch 71/100\n",
            "38/38 [==============================] - 0s 11ms/step - loss: 1.7073e-04\n",
            "Epoch 72/100\n",
            "38/38 [==============================] - 0s 12ms/step - loss: 1.7283e-04\n",
            "Epoch 73/100\n",
            "38/38 [==============================] - 0s 12ms/step - loss: 1.6381e-04\n",
            "Epoch 74/100\n",
            "38/38 [==============================] - 0s 12ms/step - loss: 1.7571e-04\n",
            "Epoch 75/100\n",
            "38/38 [==============================] - 0s 12ms/step - loss: 1.8073e-04\n",
            "Epoch 76/100\n",
            "38/38 [==============================] - 0s 12ms/step - loss: 1.6097e-04\n",
            "Epoch 77/100\n",
            "38/38 [==============================] - 0s 12ms/step - loss: 1.6421e-04\n",
            "Epoch 78/100\n",
            "38/38 [==============================] - 0s 12ms/step - loss: 1.6896e-04\n",
            "Epoch 79/100\n",
            "38/38 [==============================] - 0s 12ms/step - loss: 1.7015e-04\n",
            "Epoch 80/100\n",
            "38/38 [==============================] - 0s 12ms/step - loss: 1.7797e-04\n",
            "Epoch 81/100\n",
            "38/38 [==============================] - 0s 12ms/step - loss: 1.5884e-04\n",
            "Epoch 82/100\n",
            "38/38 [==============================] - 0s 12ms/step - loss: 1.6626e-04\n",
            "Epoch 83/100\n",
            "38/38 [==============================] - 0s 12ms/step - loss: 1.6752e-04\n",
            "Epoch 84/100\n",
            "38/38 [==============================] - 0s 12ms/step - loss: 1.8205e-04\n",
            "Epoch 85/100\n",
            "38/38 [==============================] - 0s 12ms/step - loss: 1.9318e-04\n",
            "Epoch 86/100\n",
            "38/38 [==============================] - 0s 12ms/step - loss: 1.6364e-04\n",
            "Epoch 87/100\n",
            "38/38 [==============================] - 0s 12ms/step - loss: 1.5955e-04\n",
            "Epoch 88/100\n",
            "38/38 [==============================] - 1s 20ms/step - loss: 1.6313e-04\n",
            "Epoch 89/100\n",
            "38/38 [==============================] - 1s 20ms/step - loss: 1.7177e-04\n",
            "Epoch 90/100\n",
            "38/38 [==============================] - 1s 20ms/step - loss: 1.7481e-04\n",
            "Epoch 91/100\n",
            "38/38 [==============================] - 1s 18ms/step - loss: 1.6984e-04\n",
            "Epoch 92/100\n",
            "38/38 [==============================] - 0s 12ms/step - loss: 1.7353e-04\n",
            "Epoch 93/100\n",
            "38/38 [==============================] - 0s 12ms/step - loss: 1.6046e-04\n",
            "Epoch 94/100\n",
            "38/38 [==============================] - 0s 12ms/step - loss: 1.6522e-04\n",
            "Epoch 95/100\n",
            "38/38 [==============================] - 0s 12ms/step - loss: 1.6142e-04\n",
            "Epoch 96/100\n",
            "38/38 [==============================] - 0s 13ms/step - loss: 1.7291e-04\n",
            "Epoch 97/100\n",
            "38/38 [==============================] - 0s 12ms/step - loss: 1.7188e-04\n",
            "Epoch 98/100\n",
            "38/38 [==============================] - 0s 12ms/step - loss: 2.2997e-04\n",
            "Epoch 99/100\n",
            "38/38 [==============================] - 0s 12ms/step - loss: 1.6464e-04\n",
            "Epoch 100/100\n",
            "38/38 [==============================] - 0s 12ms/step - loss: 1.7568e-04\n"
          ]
        },
        {
          "output_type": "execute_result",
          "data": {
            "text/plain": [
              "<keras.src.callbacks.History at 0x79798d0eb7f0>"
            ]
          },
          "metadata": {},
          "execution_count": 15
        }
      ]
    },
    {
      "cell_type": "code",
      "source": [
        "dataset_test = pd.read_csv('/content/testset.csv')\n",
        "test_set = dataset_test.iloc[:,1:2].values\n",
        "test_set.shape"
      ],
      "metadata": {
        "colab": {
          "base_uri": "https://localhost:8080/"
        },
        "id": "mnsW85dwJf9e",
        "outputId": "1623a7ab-3d5c-42c9-acca-b2c79022357a"
      },
      "execution_count": null,
      "outputs": [
        {
          "output_type": "execute_result",
          "data": {
            "text/plain": [
              "(125, 1)"
            ]
          },
          "metadata": {},
          "execution_count": 16
        }
      ]
    },
    {
      "cell_type": "code",
      "source": [
        "\n",
        "dataset_total = pd.concat((dataset_train['Open'],dataset_test['Open']),axis=0)"
      ],
      "metadata": {
        "id": "YxJPZi7VJv6s"
      },
      "execution_count": null,
      "outputs": []
    },
    {
      "cell_type": "code",
      "source": [
        "inputs = dataset_total.values\n",
        "inputs = inputs.reshape(-1,1)\n",
        "inputs_scaled=sc.transform(inputs)\n",
        "X_test = []\n",
        "for i in range(60,1384):\n",
        "  X_test.append(inputs_scaled[i-60:i,0])\n",
        "X_test = np.array(X_test)\n",
        "X_test = np.reshape(X_test,(X_test.shape[0], X_test.shape[1],1))\n",
        "\n",
        "X_test.shape\n"
      ],
      "metadata": {
        "colab": {
          "base_uri": "https://localhost:8080/"
        },
        "id": "3A3jjF5xJ2df",
        "outputId": "f62a06d2-8dff-4820-b4ce-820995936f71"
      },
      "execution_count": null,
      "outputs": [
        {
          "output_type": "execute_result",
          "data": {
            "text/plain": [
              "(1324, 60, 1)"
            ]
          },
          "metadata": {},
          "execution_count": 18
        }
      ]
    },
    {
      "cell_type": "code",
      "source": [
        "predicted_stock_price_scaled = model.predict(X_test)\n",
        "predicted_stock_price = sc.inverse_transform(predicted_stock_price_scaled)\n"
      ],
      "metadata": {
        "colab": {
          "base_uri": "https://localhost:8080/"
        },
        "id": "ELytD6VeJ-rT",
        "outputId": "cfd6198e-74d7-4e8a-9127-41fca4d10d70"
      },
      "execution_count": null,
      "outputs": [
        {
          "output_type": "stream",
          "name": "stdout",
          "text": [
            "42/42 [==============================] - 0s 5ms/step\n"
          ]
        }
      ]
    },
    {
      "cell_type": "code",
      "source": [
        "print(\"Name:Loshini.G   Register Number:212223220051\")\n",
        "plt.plot(np.arange(0,1384),inputs, color='red', label = 'Test(Real) Google stock price')\n",
        "plt.plot(np.arange(60,1384),predicted_stock_price, color='blue', label = 'Predicted Google stock price')\n",
        "plt.title('Google Stock Price Prediction')\n",
        "plt.xlabel('Time')\n",
        "plt.ylabel('Google Stock Price')\n",
        "plt.legend()\n",
        "plt.show()\n"
      ],
      "metadata": {
        "colab": {
          "base_uri": "https://localhost:8080/",
          "height": 489
        },
        "id": "Xtia4-qlKG-f",
        "outputId": "6e45d41c-e9dc-4f21-a4c1-f4b6b6d40c50"
      },
      "execution_count": null,
      "outputs": [
        {
          "output_type": "stream",
          "name": "stdout",
          "text": [
            "Name:Loshini.G   Register Number:212223220051\n"
          ]
        },
        {
          "output_type": "display_data",
          "data": {
            "text/plain": [
              "<Figure size 640x480 with 1 Axes>"
            ],
            "image/png": "[encoded data removed]"
          },
          "metadata": {}
        }
      ]
    }
  ]
}